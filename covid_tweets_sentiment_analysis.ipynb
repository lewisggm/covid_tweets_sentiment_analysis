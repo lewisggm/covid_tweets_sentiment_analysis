{
  "nbformat": 4,
  "nbformat_minor": 0,
  "metadata": {
    "colab": {
      "name": "covid_tweets_sentiment_analysis.ipynb",
      "provenance": [],
      "collapsed_sections": []
    },
    "kernelspec": {
      "name": "python3",
      "display_name": "Python 3"
    },
    "language_info": {
      "name": "python"
    },
    "accelerator": "GPU"
  },
  "cells": [
    {
      "cell_type": "markdown",
      "metadata": {
        "id": "kdVIBb0G9dfo"
      },
      "source": [
        "# COVID-19 Tweet Sentiment Prediction\n",
        "\n",
        "Given tweets about the COVID-19 pandemic, let's try to predict the sentiment of a given tweet.\n",
        "\n",
        "We will use a Tensorflow RNN to make our prediction."
      ]
    },
    {
      "cell_type": "markdown",
      "metadata": {
        "id": "wC_XPwWr9xpQ"
      },
      "source": [
        "### Getting Started"
      ]
    },
    {
      "cell_type": "code",
      "metadata": {
        "colab": {
          "base_uri": "https://localhost:8080/"
        },
        "id": "0YdOx0YV9t5B",
        "outputId": "dd66d806-1a9f-4a45-d966-cc6e4311c436"
      },
      "source": [
        "# importing libs\n",
        "import numpy as np\n",
        "import pandas as pd\n",
        "import plotly.express as px\n",
        "\n",
        "import re\n",
        "import nltk\n",
        "nltk.download('stopwords')\n",
        "from nltk.corpus import stopwords\n",
        "from tensorflow.keras.preprocessing.text import Tokenizer\n",
        "from tensorflow.keras.preprocessing.sequence import pad_sequences\n",
        "\n",
        "import tensorflow as tf\n",
        "\n",
        "from sklearn.metrics import classification_report"
      ],
      "execution_count": 1,
      "outputs": [
        {
          "output_type": "stream",
          "name": "stdout",
          "text": [
            "[nltk_data] Downloading package stopwords to /root/nltk_data...\n",
            "[nltk_data]   Package stopwords is already up-to-date!\n"
          ]
        }
      ]
    },
    {
      "cell_type": "code",
      "metadata": {
        "id": "zkpfy7KvBa9o"
      },
      "source": [
        "# reading the data\n",
        "train_df = pd.read_csv('./data/train.csv', encoding='latin-1')\n",
        "test_df = pd.read_csv('./data/test.csv', encoding='latin-1;')"
      ],
      "execution_count": 2,
      "outputs": []
    },
    {
      "cell_type": "markdown",
      "metadata": {
        "id": "0ewub6C1DthR"
      },
      "source": [
        "### Getting to know more about the data"
      ]
    },
    {
      "cell_type": "code",
      "metadata": {
        "id": "6fMlhmCDCpFd",
        "colab": {
          "base_uri": "https://localhost:8080/",
          "height": 204
        },
        "outputId": "30981261-b668-46c1-dbda-a6157693cd94"
      },
      "source": [
        "train_df.head()"
      ],
      "execution_count": 3,
      "outputs": [
        {
          "output_type": "execute_result",
          "data": {
            "text/html": [
              "<div>\n",
              "<style scoped>\n",
              "    .dataframe tbody tr th:only-of-type {\n",
              "        vertical-align: middle;\n",
              "    }\n",
              "\n",
              "    .dataframe tbody tr th {\n",
              "        vertical-align: top;\n",
              "    }\n",
              "\n",
              "    .dataframe thead th {\n",
              "        text-align: right;\n",
              "    }\n",
              "</style>\n",
              "<table border=\"1\" class=\"dataframe\">\n",
              "  <thead>\n",
              "    <tr style=\"text-align: right;\">\n",
              "      <th></th>\n",
              "      <th>UserName</th>\n",
              "      <th>ScreenName</th>\n",
              "      <th>Location</th>\n",
              "      <th>TweetAt</th>\n",
              "      <th>OriginalTweet</th>\n",
              "      <th>Sentiment</th>\n",
              "    </tr>\n",
              "  </thead>\n",
              "  <tbody>\n",
              "    <tr>\n",
              "      <th>0</th>\n",
              "      <td>3799</td>\n",
              "      <td>48751</td>\n",
              "      <td>London</td>\n",
              "      <td>16-03-2020</td>\n",
              "      <td>@MeNyrbie @Phil_Gahan @Chrisitv https://t.co/i...</td>\n",
              "      <td>Neutral</td>\n",
              "    </tr>\n",
              "    <tr>\n",
              "      <th>1</th>\n",
              "      <td>3800</td>\n",
              "      <td>48752</td>\n",
              "      <td>UK</td>\n",
              "      <td>16-03-2020</td>\n",
              "      <td>advice Talk to your neighbours family to excha...</td>\n",
              "      <td>Positive</td>\n",
              "    </tr>\n",
              "    <tr>\n",
              "      <th>2</th>\n",
              "      <td>3801</td>\n",
              "      <td>48753</td>\n",
              "      <td>Vagabonds</td>\n",
              "      <td>16-03-2020</td>\n",
              "      <td>Coronavirus Australia: Woolworths to give elde...</td>\n",
              "      <td>Positive</td>\n",
              "    </tr>\n",
              "    <tr>\n",
              "      <th>3</th>\n",
              "      <td>3802</td>\n",
              "      <td>48754</td>\n",
              "      <td>NaN</td>\n",
              "      <td>16-03-2020</td>\n",
              "      <td>My food stock is not the only one which is emp...</td>\n",
              "      <td>Positive</td>\n",
              "    </tr>\n",
              "    <tr>\n",
              "      <th>4</th>\n",
              "      <td>3803</td>\n",
              "      <td>48755</td>\n",
              "      <td>NaN</td>\n",
              "      <td>16-03-2020</td>\n",
              "      <td>Me, ready to go at supermarket during the #COV...</td>\n",
              "      <td>Extremely Negative</td>\n",
              "    </tr>\n",
              "  </tbody>\n",
              "</table>\n",
              "</div>"
            ],
            "text/plain": [
              "   UserName  ...           Sentiment\n",
              "0      3799  ...             Neutral\n",
              "1      3800  ...            Positive\n",
              "2      3801  ...            Positive\n",
              "3      3802  ...            Positive\n",
              "4      3803  ...  Extremely Negative\n",
              "\n",
              "[5 rows x 6 columns]"
            ]
          },
          "metadata": {},
          "execution_count": 3
        }
      ]
    },
    {
      "cell_type": "code",
      "metadata": {
        "id": "y3L9mN4qCsjL",
        "colab": {
          "base_uri": "https://localhost:8080/",
          "height": 204
        },
        "outputId": "641748f0-3da9-496f-f95d-4021ce3be19e"
      },
      "source": [
        "test_df.head()"
      ],
      "execution_count": 4,
      "outputs": [
        {
          "output_type": "execute_result",
          "data": {
            "text/html": [
              "<div>\n",
              "<style scoped>\n",
              "    .dataframe tbody tr th:only-of-type {\n",
              "        vertical-align: middle;\n",
              "    }\n",
              "\n",
              "    .dataframe tbody tr th {\n",
              "        vertical-align: top;\n",
              "    }\n",
              "\n",
              "    .dataframe thead th {\n",
              "        text-align: right;\n",
              "    }\n",
              "</style>\n",
              "<table border=\"1\" class=\"dataframe\">\n",
              "  <thead>\n",
              "    <tr style=\"text-align: right;\">\n",
              "      <th></th>\n",
              "      <th>UserName</th>\n",
              "      <th>ScreenName</th>\n",
              "      <th>Location</th>\n",
              "      <th>TweetAt</th>\n",
              "      <th>OriginalTweet</th>\n",
              "      <th>Sentiment</th>\n",
              "    </tr>\n",
              "  </thead>\n",
              "  <tbody>\n",
              "    <tr>\n",
              "      <th>0</th>\n",
              "      <td>1</td>\n",
              "      <td>44953</td>\n",
              "      <td>NYC</td>\n",
              "      <td>02-03-2020</td>\n",
              "      <td>TRENDING: New Yorkers encounter empty supermar...</td>\n",
              "      <td>Extremely Negative</td>\n",
              "    </tr>\n",
              "    <tr>\n",
              "      <th>1</th>\n",
              "      <td>2</td>\n",
              "      <td>44954</td>\n",
              "      <td>Seattle, WA</td>\n",
              "      <td>02-03-2020</td>\n",
              "      <td>When I couldn't find hand sanitizer at Fred Me...</td>\n",
              "      <td>Positive</td>\n",
              "    </tr>\n",
              "    <tr>\n",
              "      <th>2</th>\n",
              "      <td>3</td>\n",
              "      <td>44955</td>\n",
              "      <td>NaN</td>\n",
              "      <td>02-03-2020</td>\n",
              "      <td>Find out how you can protect yourself and love...</td>\n",
              "      <td>Extremely Positive</td>\n",
              "    </tr>\n",
              "    <tr>\n",
              "      <th>3</th>\n",
              "      <td>4</td>\n",
              "      <td>44956</td>\n",
              "      <td>Chicagoland</td>\n",
              "      <td>02-03-2020</td>\n",
              "      <td>#Panic buying hits #NewYork City as anxious sh...</td>\n",
              "      <td>Negative</td>\n",
              "    </tr>\n",
              "    <tr>\n",
              "      <th>4</th>\n",
              "      <td>5</td>\n",
              "      <td>44957</td>\n",
              "      <td>Melbourne, Victoria</td>\n",
              "      <td>03-03-2020</td>\n",
              "      <td>#toiletpaper #dunnypaper #coronavirus #coronav...</td>\n",
              "      <td>Neutral</td>\n",
              "    </tr>\n",
              "  </tbody>\n",
              "</table>\n",
              "</div>"
            ],
            "text/plain": [
              "   UserName  ...           Sentiment\n",
              "0         1  ...  Extremely Negative\n",
              "1         2  ...            Positive\n",
              "2         3  ...  Extremely Positive\n",
              "3         4  ...            Negative\n",
              "4         5  ...             Neutral\n",
              "\n",
              "[5 rows x 6 columns]"
            ]
          },
          "metadata": {},
          "execution_count": 4
        }
      ]
    },
    {
      "cell_type": "code",
      "metadata": {
        "id": "fFdbXlgPCy4Q",
        "colab": {
          "base_uri": "https://localhost:8080/"
        },
        "outputId": "e3ee9866-0b3e-408f-e140-06ba1a34e4dc"
      },
      "source": [
        "print(train_df.columns, '\\n')\n",
        "print(test_df.columns)"
      ],
      "execution_count": 5,
      "outputs": [
        {
          "output_type": "stream",
          "name": "stdout",
          "text": [
            "Index(['UserName', 'ScreenName', 'Location', 'TweetAt', 'OriginalTweet',\n",
            "       'Sentiment'],\n",
            "      dtype='object') \n",
            "\n",
            "Index(['UserName', 'ScreenName', 'Location', 'TweetAt', 'OriginalTweet',\n",
            "       'Sentiment'],\n",
            "      dtype='object')\n"
          ]
        }
      ]
    },
    {
      "cell_type": "code",
      "metadata": {
        "id": "8f0kgSiHDBgU",
        "colab": {
          "base_uri": "https://localhost:8080/"
        },
        "outputId": "a16e0917-6da4-4e90-dbf2-da3fec616b25"
      },
      "source": [
        "train_df.info()"
      ],
      "execution_count": 6,
      "outputs": [
        {
          "output_type": "stream",
          "name": "stdout",
          "text": [
            "<class 'pandas.core.frame.DataFrame'>\n",
            "RangeIndex: 8055 entries, 0 to 8054\n",
            "Data columns (total 6 columns):\n",
            " #   Column         Non-Null Count  Dtype \n",
            "---  ------         --------------  ----- \n",
            " 0   UserName       8055 non-null   int64 \n",
            " 1   ScreenName     8055 non-null   int64 \n",
            " 2   Location       6469 non-null   object\n",
            " 3   TweetAt        8055 non-null   object\n",
            " 4   OriginalTweet  8055 non-null   object\n",
            " 5   Sentiment      8054 non-null   object\n",
            "dtypes: int64(2), object(4)\n",
            "memory usage: 377.7+ KB\n"
          ]
        }
      ]
    },
    {
      "cell_type": "code",
      "metadata": {
        "id": "vLdwBZWFDD-E",
        "colab": {
          "base_uri": "https://localhost:8080/",
          "height": 297
        },
        "outputId": "db74775a-04d9-4c49-943b-af99ccc8a408"
      },
      "source": [
        "train_df.describe()"
      ],
      "execution_count": 7,
      "outputs": [
        {
          "output_type": "execute_result",
          "data": {
            "text/html": [
              "<div>\n",
              "<style scoped>\n",
              "    .dataframe tbody tr th:only-of-type {\n",
              "        vertical-align: middle;\n",
              "    }\n",
              "\n",
              "    .dataframe tbody tr th {\n",
              "        vertical-align: top;\n",
              "    }\n",
              "\n",
              "    .dataframe thead th {\n",
              "        text-align: right;\n",
              "    }\n",
              "</style>\n",
              "<table border=\"1\" class=\"dataframe\">\n",
              "  <thead>\n",
              "    <tr style=\"text-align: right;\">\n",
              "      <th></th>\n",
              "      <th>UserName</th>\n",
              "      <th>ScreenName</th>\n",
              "    </tr>\n",
              "  </thead>\n",
              "  <tbody>\n",
              "    <tr>\n",
              "      <th>count</th>\n",
              "      <td>8055.000000</td>\n",
              "      <td>8055.000000</td>\n",
              "    </tr>\n",
              "    <tr>\n",
              "      <th>mean</th>\n",
              "      <td>7826.000000</td>\n",
              "      <td>52778.000000</td>\n",
              "    </tr>\n",
              "    <tr>\n",
              "      <th>std</th>\n",
              "      <td>2325.422542</td>\n",
              "      <td>2325.422542</td>\n",
              "    </tr>\n",
              "    <tr>\n",
              "      <th>min</th>\n",
              "      <td>3799.000000</td>\n",
              "      <td>48751.000000</td>\n",
              "    </tr>\n",
              "    <tr>\n",
              "      <th>25%</th>\n",
              "      <td>5812.500000</td>\n",
              "      <td>50764.500000</td>\n",
              "    </tr>\n",
              "    <tr>\n",
              "      <th>50%</th>\n",
              "      <td>7826.000000</td>\n",
              "      <td>52778.000000</td>\n",
              "    </tr>\n",
              "    <tr>\n",
              "      <th>75%</th>\n",
              "      <td>9839.500000</td>\n",
              "      <td>54791.500000</td>\n",
              "    </tr>\n",
              "    <tr>\n",
              "      <th>max</th>\n",
              "      <td>11853.000000</td>\n",
              "      <td>56805.000000</td>\n",
              "    </tr>\n",
              "  </tbody>\n",
              "</table>\n",
              "</div>"
            ],
            "text/plain": [
              "           UserName    ScreenName\n",
              "count   8055.000000   8055.000000\n",
              "mean    7826.000000  52778.000000\n",
              "std     2325.422542   2325.422542\n",
              "min     3799.000000  48751.000000\n",
              "25%     5812.500000  50764.500000\n",
              "50%     7826.000000  52778.000000\n",
              "75%     9839.500000  54791.500000\n",
              "max    11853.000000  56805.000000"
            ]
          },
          "metadata": {},
          "execution_count": 7
        }
      ]
    },
    {
      "cell_type": "code",
      "metadata": {
        "id": "vuS0tJu2DGtc",
        "colab": {
          "base_uri": "https://localhost:8080/"
        },
        "outputId": "71031a86-6d68-4fc6-fce3-cfc01664ae04"
      },
      "source": [
        "test_df.info()"
      ],
      "execution_count": 8,
      "outputs": [
        {
          "output_type": "stream",
          "name": "stdout",
          "text": [
            "<class 'pandas.core.frame.DataFrame'>\n",
            "RangeIndex: 3798 entries, 0 to 3797\n",
            "Data columns (total 6 columns):\n",
            " #   Column         Non-Null Count  Dtype \n",
            "---  ------         --------------  ----- \n",
            " 0   UserName       3798 non-null   int64 \n",
            " 1   ScreenName     3798 non-null   int64 \n",
            " 2   Location       2964 non-null   object\n",
            " 3   TweetAt        3798 non-null   object\n",
            " 4   OriginalTweet  3798 non-null   object\n",
            " 5   Sentiment      3798 non-null   object\n",
            "dtypes: int64(2), object(4)\n",
            "memory usage: 178.2+ KB\n"
          ]
        }
      ]
    },
    {
      "cell_type": "code",
      "metadata": {
        "id": "zXxS-UA3DIQN",
        "colab": {
          "base_uri": "https://localhost:8080/",
          "height": 297
        },
        "outputId": "c3cc137f-7c6f-4c59-e152-581bda72fde8"
      },
      "source": [
        "test_df.describe()"
      ],
      "execution_count": 9,
      "outputs": [
        {
          "output_type": "execute_result",
          "data": {
            "text/html": [
              "<div>\n",
              "<style scoped>\n",
              "    .dataframe tbody tr th:only-of-type {\n",
              "        vertical-align: middle;\n",
              "    }\n",
              "\n",
              "    .dataframe tbody tr th {\n",
              "        vertical-align: top;\n",
              "    }\n",
              "\n",
              "    .dataframe thead th {\n",
              "        text-align: right;\n",
              "    }\n",
              "</style>\n",
              "<table border=\"1\" class=\"dataframe\">\n",
              "  <thead>\n",
              "    <tr style=\"text-align: right;\">\n",
              "      <th></th>\n",
              "      <th>UserName</th>\n",
              "      <th>ScreenName</th>\n",
              "    </tr>\n",
              "  </thead>\n",
              "  <tbody>\n",
              "    <tr>\n",
              "      <th>count</th>\n",
              "      <td>3798.000000</td>\n",
              "      <td>3798.000000</td>\n",
              "    </tr>\n",
              "    <tr>\n",
              "      <th>mean</th>\n",
              "      <td>1899.500000</td>\n",
              "      <td>46851.500000</td>\n",
              "    </tr>\n",
              "    <tr>\n",
              "      <th>std</th>\n",
              "      <td>1096.532489</td>\n",
              "      <td>1096.532489</td>\n",
              "    </tr>\n",
              "    <tr>\n",
              "      <th>min</th>\n",
              "      <td>1.000000</td>\n",
              "      <td>44953.000000</td>\n",
              "    </tr>\n",
              "    <tr>\n",
              "      <th>25%</th>\n",
              "      <td>950.250000</td>\n",
              "      <td>45902.250000</td>\n",
              "    </tr>\n",
              "    <tr>\n",
              "      <th>50%</th>\n",
              "      <td>1899.500000</td>\n",
              "      <td>46851.500000</td>\n",
              "    </tr>\n",
              "    <tr>\n",
              "      <th>75%</th>\n",
              "      <td>2848.750000</td>\n",
              "      <td>47800.750000</td>\n",
              "    </tr>\n",
              "    <tr>\n",
              "      <th>max</th>\n",
              "      <td>3798.000000</td>\n",
              "      <td>48750.000000</td>\n",
              "    </tr>\n",
              "  </tbody>\n",
              "</table>\n",
              "</div>"
            ],
            "text/plain": [
              "          UserName    ScreenName\n",
              "count  3798.000000   3798.000000\n",
              "mean   1899.500000  46851.500000\n",
              "std    1096.532489   1096.532489\n",
              "min       1.000000  44953.000000\n",
              "25%     950.250000  45902.250000\n",
              "50%    1899.500000  46851.500000\n",
              "75%    2848.750000  47800.750000\n",
              "max    3798.000000  48750.000000"
            ]
          },
          "metadata": {},
          "execution_count": 9
        }
      ]
    },
    {
      "cell_type": "code",
      "metadata": {
        "id": "65TcoL7DDKCF",
        "colab": {
          "base_uri": "https://localhost:8080/"
        },
        "outputId": "3ced543e-1c02-4e2b-b8e8-b13f269e2f58"
      },
      "source": [
        "train_df.isna().sum()"
      ],
      "execution_count": 10,
      "outputs": [
        {
          "output_type": "execute_result",
          "data": {
            "text/plain": [
              "UserName            0\n",
              "ScreenName          0\n",
              "Location         1586\n",
              "TweetAt             0\n",
              "OriginalTweet       0\n",
              "Sentiment           1\n",
              "dtype: int64"
            ]
          },
          "metadata": {},
          "execution_count": 10
        }
      ]
    },
    {
      "cell_type": "code",
      "metadata": {
        "id": "3Y5jFLkpDKkE",
        "colab": {
          "base_uri": "https://localhost:8080/"
        },
        "outputId": "7bb861c5-2ce7-41da-b6b3-fda9a2a2727b"
      },
      "source": [
        "test_df.isna().sum()"
      ],
      "execution_count": 11,
      "outputs": [
        {
          "output_type": "execute_result",
          "data": {
            "text/plain": [
              "UserName           0\n",
              "ScreenName         0\n",
              "Location         834\n",
              "TweetAt            0\n",
              "OriginalTweet      0\n",
              "Sentiment          0\n",
              "dtype: int64"
            ]
          },
          "metadata": {},
          "execution_count": 11
        }
      ]
    },
    {
      "cell_type": "code",
      "metadata": {
        "id": "Tke_RSoODQoU",
        "colab": {
          "base_uri": "https://localhost:8080/"
        },
        "outputId": "d8b30eb7-6e54-4dd6-9a26-78497a2a6379"
      },
      "source": [
        "train_df['Sentiment'].value_counts()"
      ],
      "execution_count": 12,
      "outputs": [
        {
          "output_type": "execute_result",
          "data": {
            "text/plain": [
              "Positive              2158\n",
              "Negative              2024\n",
              "Neutral               1427\n",
              "Extremely Negative    1233\n",
              "Extremely Positive    1212\n",
              "Name: Sentiment, dtype: int64"
            ]
          },
          "metadata": {},
          "execution_count": 12
        }
      ]
    },
    {
      "cell_type": "code",
      "metadata": {
        "id": "OBhQ12VEDTzr",
        "colab": {
          "base_uri": "https://localhost:8080/"
        },
        "outputId": "085df3dd-53ee-4ffa-9b72-3cce8868a6a3"
      },
      "source": [
        "test_df['Sentiment'].value_counts()"
      ],
      "execution_count": 13,
      "outputs": [
        {
          "output_type": "execute_result",
          "data": {
            "text/plain": [
              "Negative              1041\n",
              "Positive               947\n",
              "Neutral                619\n",
              "Extremely Positive     599\n",
              "Extremely Negative     592\n",
              "Name: Sentiment, dtype: int64"
            ]
          },
          "metadata": {},
          "execution_count": 13
        }
      ]
    },
    {
      "cell_type": "markdown",
      "metadata": {
        "id": "KhGQCSFVENzl"
      },
      "source": [
        "### Data Preprocessing"
      ]
    },
    {
      "cell_type": "code",
      "metadata": {
        "id": "Xu9lXv__ENN1"
      },
      "source": [
        "train_inputs = train_df['OriginalTweet'].copy()\n",
        "test_inputs = test_df['OriginalTweet'].copy()\n",
        "\n",
        "train_labels = train_df['Sentiment'].copy()\n",
        "test_labels = test_df['Sentiment'].copy()"
      ],
      "execution_count": 14,
      "outputs": []
    },
    {
      "cell_type": "code",
      "metadata": {
        "id": "d0hLWY1MEXN0"
      },
      "source": [
        "# encoding sentiment to numbers\n",
        "sentiment_encoding = {'Extremely Negative': 0, \n",
        "        'Negative': 0, \n",
        "        'Neutral': 1, \n",
        "        'Positive': 2, \n",
        "        'Extremely Positive': 2}"
      ],
      "execution_count": 15,
      "outputs": []
    },
    {
      "cell_type": "code",
      "metadata": {
        "id": "O1eVOzDyEZgs"
      },
      "source": [
        "train_labels = train_labels.replace(sentiment_encoding)\n",
        "test_labels = test_labels.replace(sentiment_encoding)"
      ],
      "execution_count": 16,
      "outputs": []
    },
    {
      "cell_type": "code",
      "metadata": {
        "colab": {
          "base_uri": "https://localhost:8080/"
        },
        "id": "cBke9X1HHM0v",
        "outputId": "72b431fc-d536-4be3-9236-9d5bfdcd43fd"
      },
      "source": [
        "train_labels"
      ],
      "execution_count": 17,
      "outputs": [
        {
          "output_type": "execute_result",
          "data": {
            "text/plain": [
              "0       1.0\n",
              "1       2.0\n",
              "2       2.0\n",
              "3       2.0\n",
              "4       0.0\n",
              "       ... \n",
              "8050    0.0\n",
              "8051    0.0\n",
              "8052    2.0\n",
              "8053    0.0\n",
              "8054    NaN\n",
              "Name: Sentiment, Length: 8055, dtype: float64"
            ]
          },
          "metadata": {},
          "execution_count": 17
        }
      ]
    },
    {
      "cell_type": "code",
      "metadata": {
        "id": "Z0jCyzK4Ebvc"
      },
      "source": [
        "stop_words = stopwords.words('english')"
      ],
      "execution_count": 18,
      "outputs": []
    },
    {
      "cell_type": "code",
      "metadata": {
        "id": "K-3APXKnEdvc"
      },
      "source": [
        "def process_tweet(tweet):\n",
        "    # remove urls\n",
        "    tweet = re.sub(r'http\\S+', ' ', tweet)\n",
        "\n",
        "    # remove html tags\n",
        "    tweet = re.sub(r'<.*?>', ' ', tweet)\n",
        "\n",
        "    # remove digits\n",
        "    tweet = re.sub(r'\\d+', ' ', tweet)\n",
        "\n",
        "    # remove hashtags\n",
        "    tweet = re.sub(r'#\\W+', ' ', tweet)\n",
        "\n",
        "    # remove mentions\n",
        "    tweet = re.sub(r'@]W+', ' ', tweet)\n",
        "\n",
        "    # removing stopwords\n",
        "    tweet = tweet.split()\n",
        "    tweet = \" \".join([word for word in tweet if not word in stop_words])\n",
        "\n",
        "    return tweet"
      ],
      "execution_count": 19,
      "outputs": []
    },
    {
      "cell_type": "code",
      "metadata": {
        "id": "WiU0Wcn4Eo2s"
      },
      "source": [
        "train_inputs = train_inputs.apply(process_tweet)\n",
        "test_inputs = test_inputs.apply(process_tweet)"
      ],
      "execution_count": 20,
      "outputs": []
    },
    {
      "cell_type": "code",
      "metadata": {
        "colab": {
          "base_uri": "https://localhost:8080/"
        },
        "id": "Z4W2IKLGDWpi",
        "outputId": "33443ecf-3f5d-4467-a80b-87ac8325e6e1"
      },
      "source": [
        "train_inputs"
      ],
      "execution_count": 21,
      "outputs": [
        {
          "output_type": "execute_result",
          "data": {
            "text/plain": [
              "0                         @MeNyrbie @Phil_Gahan @Chrisitv\n",
              "1       advice Talk neighbours family exchange phone n...\n",
              "2       Coronavirus Australia: Woolworths give elderly...\n",
              "3       My food stock one empty... PLEASE, panic, THER...\n",
              "4       Me, ready go supermarket #COVID outbreak. Not ...\n",
              "                              ...                        \n",
              "8050    Hit grocery store early attempt find one elusi...\n",
              "8051    Home Affairs Minister Peter Dutton says joint ...\n",
              "8052    Well I NEVER get #weightloss side effect anyth...\n",
              "8053    @Nigel @balmaingourmet I agree wholeheartedly ...\n",
              "8054    @eBay going anything this? Absolutely disgusti...\n",
              "Name: OriginalTweet, Length: 8055, dtype: object"
            ]
          },
          "metadata": {},
          "execution_count": 21
        }
      ]
    },
    {
      "cell_type": "code",
      "metadata": {
        "colab": {
          "base_uri": "https://localhost:8080/",
          "height": 711
        },
        "id": "Cybg-OAsC0bm",
        "outputId": "2594a98c-0f60-4153-902e-c0ea3c61aa5b"
      },
      "source": [
        "import seaborn as sns\n",
        "import matplotlib.pyplot as plt\n",
        "\n",
        "seqlen = train_inputs.apply(lambda x: len(x.split()))\n",
        "\n",
        "# visualizing\n",
        "sns.set_style('darkgrid')\n",
        "plt.figure(figsize=(16, 10))\n",
        "sns.distplot(seqlen)"
      ],
      "execution_count": 22,
      "outputs": [
        {
          "output_type": "stream",
          "name": "stderr",
          "text": [
            "/usr/local/lib/python3.7/dist-packages/seaborn/distributions.py:2619: FutureWarning:\n",
            "\n",
            "`distplot` is a deprecated function and will be removed in a future version. Please adapt your code to use either `displot` (a figure-level function with similar flexibility) or `histplot` (an axes-level function for histograms).\n",
            "\n"
          ]
        },
        {
          "output_type": "execute_result",
          "data": {
            "text/plain": [
              "<matplotlib.axes._subplots.AxesSubplot at 0x7fa9737a8790>"
            ]
          },
          "metadata": {},
          "execution_count": 22
        },
        {
          "output_type": "display_data",
          "data": {
            "image/png": "[encoded data removed]",
            "text/plain": [
              "<Figure size 1152x720 with 1 Axes>"
            ]
          },
          "metadata": {}
        }
      ]
    },
    {
      "cell_type": "code",
      "metadata": {
        "id": "0JkIyM1SExFc"
      },
      "source": [
        "# max_seq_len = np.max(train_inputs.apply(lambda tweet: len(tweet.split())))\n",
        "# max_seq_len"
      ],
      "execution_count": 23,
      "outputs": []
    },
    {
      "cell_type": "code",
      "metadata": {
        "id": "JhOuRKN2FTne"
      },
      "source": [
        "SEQ_LEN = 100\n",
        "VOCAB_LEN = 20000"
      ],
      "execution_count": 24,
      "outputs": []
    },
    {
      "cell_type": "code",
      "metadata": {
        "id": "QJyZ7ZJgE0QA"
      },
      "source": [
        "tokenizer = Tokenizer(num_words=VOCAB_LEN)\n",
        "tokenizer.fit_on_texts(train_inputs)"
      ],
      "execution_count": 25,
      "outputs": []
    },
    {
      "cell_type": "code",
      "metadata": {
        "id": "rWLUk9bqE3jM"
      },
      "source": [
        "# word_index = tokenizer.word_index\n",
        "# vocab_len = len(tokenizer.word_index) + 1\n",
        "# vocab_len"
      ],
      "execution_count": 26,
      "outputs": []
    },
    {
      "cell_type": "code",
      "metadata": {
        "id": "rBjaDNDZE58U"
      },
      "source": [
        "train_inputs = tokenizer.texts_to_sequences(train_inputs)\n",
        "test_inputs = tokenizer.texts_to_sequences(test_inputs)"
      ],
      "execution_count": 27,
      "outputs": []
    },
    {
      "cell_type": "code",
      "metadata": {
        "id": "lrIfI3SoFCUM"
      },
      "source": [
        "PAD = 'post'\n",
        "TRUNC = 'post'\n",
        "EMBED_DIM = 128\n",
        "BATCH_SIZE = 32\n",
        "EPOCHS = 2"
      ],
      "execution_count": 28,
      "outputs": []
    },
    {
      "cell_type": "code",
      "metadata": {
        "id": "Ym382vQcFJHE"
      },
      "source": [
        "train_inputs = pad_sequences(train_inputs, maxlen=SEQ_LEN, padding=PAD, truncating=TRUNC)\n",
        "test_inputs = pad_sequences(test_inputs, maxlen=SEQ_LEN, padding=PAD, truncating=TRUNC)"
      ],
      "execution_count": 29,
      "outputs": []
    },
    {
      "cell_type": "markdown",
      "metadata": {
        "id": "e3WUEf8pFd76"
      },
      "source": [
        "### Model Building"
      ]
    },
    {
      "cell_type": "code",
      "metadata": {
        "id": "e8WEH6A1FemM",
        "colab": {
          "base_uri": "https://localhost:8080/"
        },
        "outputId": "d1de819f-2593-4e7f-c7e2-09e80213a4d8"
      },
      "source": [
        "train_inputs.shape"
      ],
      "execution_count": 30,
      "outputs": [
        {
          "output_type": "execute_result",
          "data": {
            "text/plain": [
              "(8055, 100)"
            ]
          },
          "metadata": {},
          "execution_count": 30
        }
      ]
    },
    {
      "cell_type": "code",
      "metadata": {
        "id": "zpByDsy2Focc",
        "colab": {
          "base_uri": "https://localhost:8080/"
        },
        "outputId": "c8c54eb7-15a4-4698-a66a-e1ed568b1e64"
      },
      "source": [
        "model = tf.keras.Sequential([\n",
        "    tf.keras.layers.Embedding(\n",
        "        input_dim=VOCAB_LEN,\n",
        "        output_dim=EMBED_DIM,\n",
        "        input_length=SEQ_LEN),\n",
        "    tf.keras.layers.Bidirectional(\n",
        "        tf.keras.layers.GRU(\n",
        "            256,\n",
        "            return_sequences=True)\n",
        "    ),\n",
        "    tf.keras.layers.GlobalMaxPool1D(),\n",
        "    tf.keras.layers.Dropout(0.4),\n",
        "    tf.keras.layers.Dense(64, activation='relu'),\n",
        "    tf.keras.layers.Dropout(0.4),\n",
        "    tf.keras.layers.Dense(3, activation='softmax')\n",
        "    ])\n",
        "\n",
        "model.compile(\n",
        "        optimizer='adam',\n",
        "        loss='sparse_categorical_crossentropy',\n",
        "        metrics=['accuracy']\n",
        "        )\n",
        "\n",
        "model.summary()"
      ],
      "execution_count": 31,
      "outputs": [
        {
          "output_type": "stream",
          "name": "stdout",
          "text": [
            "Model: \"sequential\"\n",
            "_________________________________________________________________\n",
            "Layer (type)                 Output Shape              Param #   \n",
            "=================================================================\n",
            "embedding (Embedding)        (None, 100, 128)          2560000   \n",
            "_________________________________________________________________\n",
            "bidirectional (Bidirectional (None, 100, 512)          592896    \n",
            "_________________________________________________________________\n",
            "global_max_pooling1d (Global (None, 512)               0         \n",
            "_________________________________________________________________\n",
            "dropout (Dropout)            (None, 512)               0         \n",
            "_________________________________________________________________\n",
            "dense (Dense)                (None, 64)                32832     \n",
            "_________________________________________________________________\n",
            "dropout_1 (Dropout)          (None, 64)                0         \n",
            "_________________________________________________________________\n",
            "dense_1 (Dense)              (None, 3)                 195       \n",
            "=================================================================\n",
            "Total params: 3,185,923\n",
            "Trainable params: 3,185,923\n",
            "Non-trainable params: 0\n",
            "_________________________________________________________________\n"
          ]
        }
      ]
    },
    {
      "cell_type": "code",
      "metadata": {
        "id": "4WcpnSsPIpl-",
        "colab": {
          "base_uri": "https://localhost:8080/"
        },
        "outputId": "11f7afe1-dd50-44ac-9f9c-fe83b35b4391"
      },
      "source": [
        "history = model.fit(\n",
        "        train_inputs,\n",
        "        train_labels,\n",
        "        validation_split=0.12,\n",
        "        batch_size=BATCH_SIZE,\n",
        "        epochs=EPOCHS\n",
        "        )"
      ],
      "execution_count": 32,
      "outputs": [
        {
          "output_type": "stream",
          "name": "stdout",
          "text": [
            "Epoch 1/2\n",
            "222/222 [==============================] - 18s 60ms/step - loss: 0.8600 - accuracy: 0.5899 - val_loss: nan - val_accuracy: 0.7270\n",
            "Epoch 2/2\n",
            "222/222 [==============================] - 12s 56ms/step - loss: 0.4527 - accuracy: 0.8397 - val_loss: nan - val_accuracy: 0.7446\n"
          ]
        }
      ]
    },
    {
      "cell_type": "markdown",
      "metadata": {
        "id": "pj_1zgQRI-6N"
      },
      "source": [
        "### Results"
      ]
    },
    {
      "cell_type": "code",
      "metadata": {
        "id": "Vi5G5VXmJGwW",
        "colab": {
          "base_uri": "https://localhost:8080/"
        },
        "outputId": "a348a1ef-905c-4bb1-ca97-9749a9090803"
      },
      "source": [
        "model.evaluate(test_inputs, test_labels)"
      ],
      "execution_count": 33,
      "outputs": [
        {
          "output_type": "stream",
          "name": "stdout",
          "text": [
            "119/119 [==============================] - 3s 23ms/step - loss: 0.6521 - accuracy: 0.7467\n"
          ]
        },
        {
          "output_type": "execute_result",
          "data": {
            "text/plain": [
              "[0.6521453857421875, 0.7467088103294373]"
            ]
          },
          "metadata": {},
          "execution_count": 33
        }
      ]
    },
    {
      "cell_type": "code",
      "metadata": {
        "colab": {
          "base_uri": "https://localhost:8080/"
        },
        "id": "lqVGjiASUPdY",
        "outputId": "859baa55-3957-45ac-8ae3-0c23bc4fea75"
      },
      "source": [
        "# Predict test\n",
        "gru_pred = np.round(model.predict(test_inputs))\n",
        "gru_pred"
      ],
      "execution_count": 36,
      "outputs": [
        {
          "output_type": "execute_result",
          "data": {
            "text/plain": [
              "array([[1., 0., 0.],\n",
              "       [0., 0., 1.],\n",
              "       [0., 0., 1.],\n",
              "       ...,\n",
              "       [0., 1., 0.],\n",
              "       [1., 0., 0.],\n",
              "       [0., 0., 1.]], dtype=float32)"
            ]
          },
          "metadata": {},
          "execution_count": 36
        }
      ]
    },
    {
      "cell_type": "code",
      "metadata": {
        "colab": {
          "base_uri": "https://localhost:8080/"
        },
        "id": "xwzIS7T6Vn1-",
        "outputId": "065be35d-5189-48fc-f08e-ef5f717b8b1c"
      },
      "source": [
        "gru_pred_rounded =np.argmax(gru_pred, axis=1)\n",
        "gru_pred_rounded[1]"
      ],
      "execution_count": 38,
      "outputs": [
        {
          "output_type": "execute_result",
          "data": {
            "text/plain": [
              "2"
            ]
          },
          "metadata": {},
          "execution_count": 38
        }
      ]
    },
    {
      "cell_type": "code",
      "metadata": {
        "colab": {
          "base_uri": "https://localhost:8080/"
        },
        "id": "JfxX0kY-Ucck",
        "outputId": "bb8f4c67-f45b-4097-cd2c-4639199ae5d2"
      },
      "source": [
        "# Precision , Recall , F1-score\n",
        "cr = classification_report(test_labels,gru_pred_rounded)\n",
        "print(cr)"
      ],
      "execution_count": 39,
      "outputs": [
        {
          "output_type": "stream",
          "name": "stdout",
          "text": [
            "              precision    recall  f1-score   support\n",
            "\n",
            "           0       0.75      0.78      0.76      1633\n",
            "           1       0.73      0.57      0.64       619\n",
            "           2       0.76      0.80      0.78      1546\n",
            "\n",
            "    accuracy                           0.75      3798\n",
            "   macro avg       0.75      0.71      0.73      3798\n",
            "weighted avg       0.75      0.75      0.75      3798\n",
            "\n"
          ]
        }
      ]
    },
    {
      "cell_type": "code",
      "metadata": {
        "id": "zqsHhofNJKAl"
      },
      "source": [
        "# ## save\n",
        "# model.save('sent_anlysis_covid_tweet.h5')"
      ],
      "execution_count": 40,
      "outputs": []
    },
    {
      "cell_type": "code",
      "metadata": {
        "id": "sKTrfvXKWDoD"
      },
      "source": [
        ""
      ],
      "execution_count": null,
      "outputs": []
    }
  ]
}